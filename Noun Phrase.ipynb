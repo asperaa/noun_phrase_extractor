{
 "cells": [
  {
   "cell_type": "markdown",
   "metadata": {},
   "source": [
    "## Approach of the problem\n",
    "\n",
    "### Tokenizing\n",
    "In a program, text is represented as a string of characters. How can we go about moving one level of abstraction up, to the level of words, or tokens? To tokenize a sentence you may be tempted to use Python’s .split() method, but this means you will need to code additional rules to remove hyphens, newlines and punctuation when appropriate.<br/>\n",
    "\n",
    "We will be using NLTK regular expression tokenizer.\n",
    "\n",
    "\n",
    "### Tagging\n",
    "The next step is tagging. This uses statistical data to apply a Part-of-speech tag to each token, e.g. ADJ, NN (Noun), and so on. Since it is statistical, we need to either train our model or use a pre-trained model. NLTK comes with a pretty good one for general use.\n",
    "\n",
    "\n",
    "### Chunking\n",
    "Now we can use the part-of-speech tags to lift out noun phrases (NP) based on patterns of tags.Chunking is a term referring to the process of taking individual pieces of information (chunks) and grouping them into larger units. \n",
    "We can define the form of our chunks using a regular expression, and build a chunker from that.\n",
    "\n",
    "### Walk the tree\n",
    "The output of chunking is a tree, where the noun phrase nodes are located just one level before the leaves, which are the words that constitute the noun phrase:"
   ]
  },
  {
   "cell_type": "code",
   "execution_count": 45,
   "metadata": {},
   "outputs": [
    {
     "name": "stdout",
     "output_type": "stream",
     "text": [
      "Enter the text:Today is a very great day. Indian politicians \n",
      "\n",
      "Today is a very great day. Indian politicians \n",
      "\n",
      "The tokens with tags:\n",
      "[('Today', 'NN'), ('is', 'VBZ'), ('a', 'DT'), ('very', 'RB'), ('great', 'JJ'), ('day', 'NN'), ('.', '.'), ('Indian', 'JJ'), ('politicians', 'NNS')]\n",
      "\n",
      "The noun phrases are as follows:\n",
      "Today \n",
      "great day \n",
      "Indian politicians \n"
     ]
    }
   ],
   "source": [
    "import nltk\n",
    "\n",
    "text = input(\"Enter the text:\")\n",
    "print()\n",
    "print(text)\n",
    "\n",
    "\n",
    "# Word Tokenization Regex adapted from NLTK book\n",
    "\n",
    "# abbreviations, e.g. U.S.A. (with optional last period)\n",
    "# words with optional internal hyphens\n",
    "# currency and percentages, e.g. $12.40, 82%\n",
    "# ellipsis\n",
    "# these are separate tokens\n",
    "\n",
    "sentence_re = r'(?:(?:[A-Z])(?:.[A-Z])+.?)|(?:\\w+(?:-\\w+)*)|(?:\\$?\\d+(?:.\\d+)?%?)|(?:...|)(?:[][.,;\"\\'?():-_`])'\n",
    "\n",
    "grammar = r\"\"\"\n",
    "    NBAR:{<PRP>}\n",
    "         {<NN.*|JJ>*<NN.*>} # Nouns and Adjectives, terminated with Nouns\n",
    "        \n",
    "    NP:\n",
    "        {<DT>*<NBAR>}\n",
    "        {<DT>*<NBAR><IN><NBAR>}  # Above, connected with in/of/etc...\n",
    "\"\"\"\n",
    "chunker = nltk.RegexpParser(grammar)\n",
    "toks = nltk.regexp_tokenize(text, sentence_re)\n",
    "postoks = nltk.tag.pos_tag(toks)\n",
    "\n",
    "print()\n",
    "print(\"The tokens with tags:\")\n",
    "print(postoks)\n",
    "\n",
    "tree = chunker.parse(postoks)\n",
    "#tree.draw()\n",
    "\n",
    "\n",
    "\n",
    "#Finds NP (nounphrase) leaf nodes of a chunk tree.\n",
    "\n",
    "def leaves(tree):\n",
    "    for subtree in tree.subtrees(filter = lambda t: t.label()=='NP'):\n",
    "        yield subtree.leaves()\n",
    "        \n",
    "\n",
    "\n",
    "def get_terms(tree):\n",
    "    for leaf in leaves(tree):\n",
    "        term = [ w for w,t in leaf  ]\n",
    "        yield term\n",
    "\n",
    "terms = get_terms(tree)\n",
    "\n",
    "print()\n",
    "print(\"The noun phrases are as follows:\")\n",
    "for term in terms:\n",
    "    for word in term:\n",
    "        print(word,\"\",end=\"\")\n",
    "    print()\n"
   ]
  },
  {
   "cell_type": "code",
   "execution_count": null,
   "metadata": {},
   "outputs": [],
   "source": []
  },
  {
   "cell_type": "code",
   "execution_count": null,
   "metadata": {},
   "outputs": [],
   "source": []
  }
 ],
 "metadata": {
  "kernelspec": {
   "display_name": "Python 3",
   "language": "python",
   "name": "python3"
  },
  "language_info": {
   "codemirror_mode": {
    "name": "ipython",
    "version": 3
   },
   "file_extension": ".py",
   "mimetype": "text/x-python",
   "name": "python",
   "nbconvert_exporter": "python",
   "pygments_lexer": "ipython3",
   "version": "3.6.6"
  }
 },
 "nbformat": 4,
 "nbformat_minor": 2
}
